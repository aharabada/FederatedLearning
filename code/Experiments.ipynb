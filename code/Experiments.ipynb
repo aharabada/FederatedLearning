{
 "cells": [
  {
   "cell_type": "markdown",
   "metadata": {},
   "source": [
    "# Experiment-Notebook"
   ]
  },
  {
   "cell_type": "code",
   "execution_count": null,
   "metadata": {},
   "outputs": [],
   "source": [
    "from FedAvgController import FedAvgController\n",
    "import os\n",
    "import gc\n",
    "import torch"
   ]
  },
  {
   "cell_type": "code",
   "execution_count": null,
   "metadata": {},
   "outputs": [],
   "source": [
    "# since this Notebook is in the code folder, we need to go up one level, so every module works as expected\n",
    "if(os.getcwd().endswith(\"code\")):\n",
    "    os.chdir(\"..\")\n",
    "print(os.getcwd())\n",
    "\n",
    "\n",
    "def run_experiment(config: dict, controller_class: FedAvgController):\n",
    "    controller = controller_class(\"models/host_model_50_epochs.pth\", config)\n",
    "    controller.run(test=True)\n",
    "    controller.host.save_model(os.path.join(\"results\", controller.experiment_name), f\"model_50_{controller.experiment_name}.pth\")\n",
    "\n",
    "    del controller\n",
    "    gc.collect()\n",
    "    torch.cuda.empty_cache()"
   ]
  },
  {
   "cell_type": "markdown",
   "metadata": {},
   "source": [
    "# FedAvg Experiments\n",
    "### Experiment 1.1 - Many rounds, few data"
   ]
  },
  {
   "cell_type": "code",
   "execution_count": null,
   "metadata": {},
   "outputs": [],
   "source": [
    "config = {\n",
    "    \"RUNS\": 5,\n",
    "    \"ROUNDS\": 20,\n",
    "    \"N_CLIENTS\": 5,\n",
    "    \"CLIENT_ITERATIONS\": 1,\n",
    "    \"N_DATAPOINTS_PER_ROUND\": 10,\n",
    "    \"USE_MCD\": True\n",
    "}\n",
    "    \n",
    "run_experiment(config, FedAvgController)"
   ]
  },
  {
   "cell_type": "markdown",
   "metadata": {},
   "source": [
    "### Experiment 1.2  Fewer rounds, all data"
   ]
  },
  {
   "cell_type": "code",
   "execution_count": null,
   "metadata": {},
   "outputs": [],
   "source": [
    "# config = {\n",
    "#     \"ROUNDS\": 3,\n",
    "#     \"N_CLIENTS\": 5,\n",
    "#     \"CLIENT_ITERATIONS\": 1,\n",
    "#     \"N_DATAPOINTS_PER_ROUND\": 500 // 5,\n",
    "#     \"USE_MCD\": True\n",
    "# }\n",
    "    \n",
    "# controller = FedAvgController(\"models/host_model_50_epochs.pth\", config)\n",
    "# controller.run(test=True)\n",
    "# controller.host.save_model(os.path.join(\"results\", controller.experiment_name), f\"model_50_{controller.experiment_name}.pth\")"
   ]
  }
 ],
 "metadata": {
  "kernelspec": {
   "display_name": "MA",
   "language": "python",
   "name": "python3"
  },
  "language_info": {
   "codemirror_mode": {
    "name": "ipython",
    "version": 3
   },
   "file_extension": ".py",
   "mimetype": "text/x-python",
   "name": "python",
   "nbconvert_exporter": "python",
   "pygments_lexer": "ipython3",
   "version": "3.12.9"
  }
 },
 "nbformat": 4,
 "nbformat_minor": 2
}
