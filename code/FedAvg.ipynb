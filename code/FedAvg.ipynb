{
 "cells": [
  {
   "cell_type": "markdown",
   "metadata": {},
   "source": [
    "# Experiment to FedAvg with Monte Carlo Dropout"
   ]
  },
  {
   "cell_type": "code",
   "execution_count": null,
   "metadata": {},
   "outputs": [],
   "source": [
    "from FedAvgController import FedAvgController\n",
    "import os"
   ]
  },
  {
   "cell_type": "code",
   "execution_count": null,
   "metadata": {},
   "outputs": [],
   "source": [
    "os.chdir(\"..\")"
   ]
  },
  {
   "cell_type": "code",
   "execution_count": null,
   "metadata": {},
   "outputs": [],
   "source": [
    "config = {\n",
    "    \"ROUNDS\": 10,\n",
    "    \"N_CLIENTS\": 5,\n",
    "    \"CLIENT_ITERATIONS\": 5,\n",
    "    \"CLIENT_BATCH_SIZE\": 8,\n",
    "    \"N_DATAPOINTS_PER_ROUND\": 500 // 5\n",
    "}\n",
    "    \n",
    "controller = FedAvgController(\"models/host_model_25_epochs.pth\", config)\n",
    "controller.run(test=True, labeling_method=\"monte carlo dropout\")\n"
   ]
  },
  {
   "cell_type": "code",
   "execution_count": null,
   "metadata": {},
   "outputs": [],
   "source": [
    "config = {\n",
    "    \"ROUNDS\": 10,\n",
    "    \"N_CLIENTS\": 4,\n",
    "    \"CLIENT_ITERATIONS\": 1,\n",
    "    \"CLIENT_BATCH_SIZE\": 8,\n",
    "    \"N_DATAPOINTS_PER_ROUND\": 64\n",
    "}\n",
    "    \n",
    "controller = FedAvgController(\"models/host_model_25_epochs.pth\", config)\n",
    "controller.run(test=True, labeling_method=\"true labels\")\n"
   ]
  },
  {
   "cell_type": "code",
   "execution_count": null,
   "metadata": {},
   "outputs": [],
   "source": []
  }
 ],
 "metadata": {
  "kernelspec": {
   "display_name": "MA",
   "language": "python",
   "name": "python3"
  },
  "language_info": {
   "codemirror_mode": {
    "name": "ipython",
    "version": 3
   },
   "file_extension": ".py",
   "mimetype": "text/x-python",
   "name": "python",
   "nbconvert_exporter": "python",
   "pygments_lexer": "ipython3",
   "version": "3.12.9"
  }
 },
 "nbformat": 4,
 "nbformat_minor": 2
}
