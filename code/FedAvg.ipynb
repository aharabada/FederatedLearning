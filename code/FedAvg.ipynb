{
 "cells": [
  {
   "cell_type": "markdown",
   "metadata": {},
   "source": [
    "# Experiment to FedAvg with Monte Carlo Dropout"
   ]
  },
  {
   "cell_type": "code",
   "execution_count": 8,
   "metadata": {},
   "outputs": [],
   "source": [
    "from FedAvgController import FedAvgController\n",
    "import os"
   ]
  },
  {
   "cell_type": "code",
   "execution_count": null,
   "metadata": {},
   "outputs": [],
   "source": [
    "os.chdir(\"..\")"
   ]
  },
  {
   "cell_type": "code",
   "execution_count": null,
   "metadata": {},
   "outputs": [
    {
     "name": "stdout",
     "output_type": "stream",
     "text": [
      "Host Device: cuda\n",
      "Roswitha Device: cuda\n",
      "Wolfgang Device: cuda\n",
      "Friederike Device: cuda\n",
      "Margot Device: cuda\n",
      "\n",
      "Evaluating model performance on test set...\n",
      "\n",
      "Test Results:\n",
      "==================================================\n",
      "Test Loss: 0.171773\n",
      "Test IoU: 0.639163\n",
      "==================================================\n",
      "\n",
      "Starting round 1/10...\n",
      "==================================================\n",
      "\n",
      "Training Client Roswitha (1/4)...\n"
     ]
    },
    {
     "name": "stderr",
     "output_type": "stream",
     "text": [
      "Epoch 1/1: 100%|██████████| 8/8 [00:32<00:00,  4.05s/it]\n"
     ]
    },
    {
     "name": "stdout",
     "output_type": "stream",
     "text": [
      "Epoch 1/1 - Train Loss: 0.0910\n",
      "\n",
      "Training Client Wolfgang (2/4)...\n"
     ]
    },
    {
     "name": "stderr",
     "output_type": "stream",
     "text": [
      "Epoch 1/1: 100%|██████████| 8/8 [00:31<00:00,  3.99s/it]\n"
     ]
    },
    {
     "name": "stdout",
     "output_type": "stream",
     "text": [
      "Epoch 1/1 - Train Loss: 0.1118\n",
      "\n",
      "Training Client Friederike (3/4)...\n"
     ]
    },
    {
     "name": "stderr",
     "output_type": "stream",
     "text": [
      "Epoch 1/1: 100%|██████████| 8/8 [00:32<00:00,  4.06s/it]\n"
     ]
    },
    {
     "name": "stdout",
     "output_type": "stream",
     "text": [
      "Epoch 1/1 - Train Loss: 0.1151\n",
      "\n",
      "Training Client Margot (4/4)...\n"
     ]
    },
    {
     "name": "stderr",
     "output_type": "stream",
     "text": [
      "Epoch 1/1: 100%|██████████| 8/8 [00:32<00:00,  4.00s/it]\n"
     ]
    },
    {
     "name": "stdout",
     "output_type": "stream",
     "text": [
      "Epoch 1/1 - Train Loss: 0.1117\n",
      "\n",
      "Fetching client data...\n",
      "\n",
      "Aggregating client parameters...\n",
      "\n",
      "Updating host model\n",
      "\n",
      "Sending updated model to clients...\n",
      "\n",
      "Evaluating model performance on test set...\n",
      "\n",
      "Test Results:\n",
      "==================================================\n",
      "Test Loss: 0.221195\n",
      "Test IoU: 0.564483\n",
      "==================================================\n",
      "\n",
      "Starting round 2/10...\n",
      "==================================================\n",
      "\n",
      "Training Client Roswitha (1/4)...\n"
     ]
    },
    {
     "name": "stderr",
     "output_type": "stream",
     "text": [
      "Epoch 1/1: 100%|██████████| 8/8 [00:32<00:00,  4.02s/it]\n"
     ]
    },
    {
     "name": "stdout",
     "output_type": "stream",
     "text": [
      "Epoch 1/1 - Train Loss: 0.0669\n",
      "\n",
      "Training Client Wolfgang (2/4)...\n"
     ]
    },
    {
     "name": "stderr",
     "output_type": "stream",
     "text": [
      "Epoch 1/1: 100%|██████████| 8/8 [00:32<00:00,  4.08s/it]\n"
     ]
    },
    {
     "name": "stdout",
     "output_type": "stream",
     "text": [
      "Epoch 1/1 - Train Loss: 0.0634\n",
      "\n",
      "Training Client Friederike (3/4)...\n"
     ]
    },
    {
     "name": "stderr",
     "output_type": "stream",
     "text": [
      "Epoch 1/1: 100%|██████████| 8/8 [00:31<00:00,  3.95s/it]\n"
     ]
    },
    {
     "name": "stdout",
     "output_type": "stream",
     "text": [
      "Epoch 1/1 - Train Loss: 0.0600\n",
      "\n",
      "Training Client Margot (4/4)...\n"
     ]
    },
    {
     "name": "stderr",
     "output_type": "stream",
     "text": [
      "Epoch 1/1: 100%|██████████| 8/8 [00:31<00:00,  4.00s/it]\n"
     ]
    },
    {
     "name": "stdout",
     "output_type": "stream",
     "text": [
      "Epoch 1/1 - Train Loss: 0.0768\n",
      "\n",
      "Fetching client data...\n",
      "\n",
      "Aggregating client parameters...\n",
      "\n",
      "Updating host model\n",
      "\n",
      "Sending updated model to clients...\n",
      "\n",
      "Evaluating model performance on test set...\n",
      "\n",
      "Test Results:\n",
      "==================================================\n",
      "Test Loss: 0.172889\n",
      "Test IoU: 0.608914\n",
      "==================================================\n",
      "\n",
      "Starting round 3/10...\n",
      "==================================================\n",
      "\n",
      "Training Client Roswitha (1/4)...\n"
     ]
    },
    {
     "name": "stderr",
     "output_type": "stream",
     "text": [
      "Epoch 1/1: 100%|██████████| 8/8 [00:32<00:00,  4.02s/it]\n"
     ]
    },
    {
     "name": "stdout",
     "output_type": "stream",
     "text": [
      "Epoch 1/1 - Train Loss: 0.0402\n",
      "\n",
      "Training Client Wolfgang (2/4)...\n"
     ]
    },
    {
     "name": "stderr",
     "output_type": "stream",
     "text": [
      "Epoch 1/1: 100%|██████████| 8/8 [00:32<00:00,  4.07s/it]\n"
     ]
    },
    {
     "name": "stdout",
     "output_type": "stream",
     "text": [
      "Epoch 1/1 - Train Loss: 0.0547\n",
      "\n",
      "Training Client Friederike (3/4)...\n"
     ]
    },
    {
     "name": "stderr",
     "output_type": "stream",
     "text": [
      "Epoch 1/1: 100%|██████████| 8/8 [00:32<00:00,  4.10s/it]\n"
     ]
    },
    {
     "name": "stdout",
     "output_type": "stream",
     "text": [
      "Epoch 1/1 - Train Loss: 0.0410\n",
      "\n",
      "Training Client Margot (4/4)...\n"
     ]
    },
    {
     "name": "stderr",
     "output_type": "stream",
     "text": [
      "Epoch 1/1: 100%|██████████| 8/8 [00:31<00:00,  3.96s/it]\n"
     ]
    },
    {
     "name": "stdout",
     "output_type": "stream",
     "text": [
      "Epoch 1/1 - Train Loss: 0.0420\n",
      "\n",
      "Fetching client data...\n",
      "\n",
      "Aggregating client parameters...\n",
      "\n",
      "Updating host model\n",
      "\n",
      "Sending updated model to clients...\n",
      "\n",
      "Evaluating model performance on test set...\n",
      "\n",
      "Test Results:\n",
      "==================================================\n",
      "Test Loss: 0.313145\n",
      "Test IoU: 0.516341\n",
      "==================================================\n",
      "\n",
      "Starting round 4/10...\n",
      "==================================================\n",
      "\n",
      "Training Client Roswitha (1/4)...\n"
     ]
    },
    {
     "name": "stderr",
     "output_type": "stream",
     "text": [
      "Epoch 1/1: 100%|██████████| 8/8 [00:31<00:00,  3.92s/it]\n"
     ]
    },
    {
     "name": "stdout",
     "output_type": "stream",
     "text": [
      "Epoch 1/1 - Train Loss: 0.0380\n",
      "\n",
      "Training Client Wolfgang (2/4)...\n"
     ]
    },
    {
     "name": "stderr",
     "output_type": "stream",
     "text": [
      "Epoch 1/1: 100%|██████████| 8/8 [00:31<00:00,  4.00s/it]\n"
     ]
    },
    {
     "name": "stdout",
     "output_type": "stream",
     "text": [
      "Epoch 1/1 - Train Loss: 0.0387\n",
      "\n",
      "Training Client Friederike (3/4)...\n"
     ]
    },
    {
     "name": "stderr",
     "output_type": "stream",
     "text": [
      "Epoch 1/1: 100%|██████████| 8/8 [00:32<00:00,  4.03s/it]\n"
     ]
    },
    {
     "name": "stdout",
     "output_type": "stream",
     "text": [
      "Epoch 1/1 - Train Loss: 0.0652\n",
      "\n",
      "Training Client Margot (4/4)...\n"
     ]
    },
    {
     "name": "stderr",
     "output_type": "stream",
     "text": [
      "Epoch 1/1: 100%|██████████| 8/8 [00:32<00:00,  4.05s/it]\n"
     ]
    },
    {
     "name": "stdout",
     "output_type": "stream",
     "text": [
      "Epoch 1/1 - Train Loss: 0.0538\n",
      "\n",
      "Fetching client data...\n",
      "\n",
      "Aggregating client parameters...\n",
      "\n",
      "Updating host model\n",
      "\n",
      "Sending updated model to clients...\n",
      "\n",
      "Evaluating model performance on test set...\n",
      "\n",
      "Test Results:\n",
      "==================================================\n",
      "Test Loss: 0.594320\n",
      "Test IoU: 0.423560\n",
      "==================================================\n",
      "\n",
      "Starting round 5/10...\n",
      "==================================================\n",
      "\n",
      "Training Client Roswitha (1/4)...\n"
     ]
    },
    {
     "name": "stderr",
     "output_type": "stream",
     "text": [
      "Epoch 1/1: 100%|██████████| 8/8 [00:32<00:00,  4.07s/it]\n"
     ]
    },
    {
     "name": "stdout",
     "output_type": "stream",
     "text": [
      "Epoch 1/1 - Train Loss: 0.0318\n",
      "\n",
      "Training Client Wolfgang (2/4)...\n"
     ]
    },
    {
     "name": "stderr",
     "output_type": "stream",
     "text": [
      "Epoch 1/1: 100%|██████████| 8/8 [00:32<00:00,  4.08s/it]\n"
     ]
    },
    {
     "name": "stdout",
     "output_type": "stream",
     "text": [
      "Epoch 1/1 - Train Loss: 0.0476\n",
      "\n",
      "Training Client Friederike (3/4)...\n"
     ]
    },
    {
     "name": "stderr",
     "output_type": "stream",
     "text": [
      "Epoch 1/1: 100%|██████████| 8/8 [00:32<00:00,  4.04s/it]\n"
     ]
    },
    {
     "name": "stdout",
     "output_type": "stream",
     "text": [
      "Epoch 1/1 - Train Loss: 0.0368\n",
      "\n",
      "Training Client Margot (4/4)...\n"
     ]
    },
    {
     "name": "stderr",
     "output_type": "stream",
     "text": [
      "Epoch 1/1: 100%|██████████| 8/8 [00:32<00:00,  4.05s/it]\n"
     ]
    },
    {
     "name": "stdout",
     "output_type": "stream",
     "text": [
      "Epoch 1/1 - Train Loss: 0.1055\n",
      "\n",
      "Fetching client data...\n",
      "\n",
      "Aggregating client parameters...\n",
      "\n",
      "Updating host model\n",
      "\n",
      "Sending updated model to clients...\n",
      "\n",
      "Evaluating model performance on test set...\n",
      "\n",
      "Test Results:\n",
      "==================================================\n",
      "Test Loss: 0.564754\n",
      "Test IoU: 0.414169\n",
      "==================================================\n",
      "\n",
      "Starting round 6/10...\n",
      "==================================================\n",
      "\n",
      "Training Client Roswitha (1/4)...\n"
     ]
    },
    {
     "name": "stderr",
     "output_type": "stream",
     "text": [
      "Epoch 1/1: 100%|██████████| 8/8 [00:32<00:00,  4.08s/it]\n"
     ]
    },
    {
     "name": "stdout",
     "output_type": "stream",
     "text": [
      "Epoch 1/1 - Train Loss: 0.0514\n",
      "\n",
      "Training Client Wolfgang (2/4)...\n"
     ]
    },
    {
     "name": "stderr",
     "output_type": "stream",
     "text": [
      "Epoch 1/1: 100%|██████████| 8/8 [00:32<00:00,  4.08s/it]\n"
     ]
    },
    {
     "name": "stdout",
     "output_type": "stream",
     "text": [
      "Epoch 1/1 - Train Loss: 0.0573\n",
      "\n",
      "Training Client Friederike (3/4)...\n"
     ]
    },
    {
     "name": "stderr",
     "output_type": "stream",
     "text": [
      "Epoch 1/1: 100%|██████████| 8/8 [00:32<00:00,  4.08s/it]\n"
     ]
    },
    {
     "name": "stdout",
     "output_type": "stream",
     "text": [
      "Epoch 1/1 - Train Loss: 0.0359\n",
      "\n",
      "Training Client Margot (4/4)...\n"
     ]
    },
    {
     "name": "stderr",
     "output_type": "stream",
     "text": [
      "Epoch 1/1: 100%|██████████| 8/8 [00:32<00:00,  4.06s/it]\n"
     ]
    },
    {
     "name": "stdout",
     "output_type": "stream",
     "text": [
      "Epoch 1/1 - Train Loss: 0.0405\n",
      "\n",
      "Fetching client data...\n",
      "\n",
      "Aggregating client parameters...\n",
      "\n",
      "Updating host model\n",
      "\n",
      "Sending updated model to clients...\n",
      "\n",
      "Evaluating model performance on test set...\n",
      "\n",
      "Test Results:\n",
      "==================================================\n",
      "Test Loss: 0.782765\n",
      "Test IoU: 0.389928\n",
      "==================================================\n",
      "\n",
      "Starting round 7/10...\n",
      "==================================================\n",
      "\n",
      "Training Client Roswitha (1/4)...\n"
     ]
    },
    {
     "name": "stderr",
     "output_type": "stream",
     "text": [
      "Epoch 1/1: 100%|██████████| 8/8 [00:32<00:00,  4.04s/it]\n"
     ]
    },
    {
     "name": "stdout",
     "output_type": "stream",
     "text": [
      "Epoch 1/1 - Train Loss: 0.0357\n",
      "\n",
      "Training Client Wolfgang (2/4)...\n"
     ]
    },
    {
     "name": "stderr",
     "output_type": "stream",
     "text": [
      "Epoch 1/1: 100%|██████████| 8/8 [00:32<00:00,  4.02s/it]\n"
     ]
    },
    {
     "name": "stdout",
     "output_type": "stream",
     "text": [
      "Epoch 1/1 - Train Loss: 0.0928\n",
      "\n",
      "Training Client Friederike (3/4)...\n"
     ]
    },
    {
     "name": "stderr",
     "output_type": "stream",
     "text": [
      "Epoch 1/1: 100%|██████████| 8/8 [00:32<00:00,  4.04s/it]\n"
     ]
    },
    {
     "name": "stdout",
     "output_type": "stream",
     "text": [
      "Epoch 1/1 - Train Loss: 0.0682\n",
      "\n",
      "Training Client Margot (4/4)...\n"
     ]
    },
    {
     "name": "stderr",
     "output_type": "stream",
     "text": [
      "Epoch 1/1: 100%|██████████| 8/8 [00:32<00:00,  4.09s/it]\n"
     ]
    },
    {
     "name": "stdout",
     "output_type": "stream",
     "text": [
      "Epoch 1/1 - Train Loss: 0.0342\n",
      "\n",
      "Fetching client data...\n",
      "\n",
      "Aggregating client parameters...\n",
      "\n",
      "Updating host model\n",
      "\n",
      "Sending updated model to clients...\n",
      "\n",
      "Evaluating model performance on test set...\n",
      "\n",
      "Test Results:\n",
      "==================================================\n",
      "Test Loss: 0.823614\n",
      "Test IoU: 0.374011\n",
      "==================================================\n",
      "\n",
      "Starting round 8/10...\n",
      "==================================================\n",
      "\n",
      "Training Client Roswitha (1/4)...\n"
     ]
    },
    {
     "name": "stderr",
     "output_type": "stream",
     "text": [
      "Epoch 1/1: 100%|██████████| 8/8 [00:32<00:00,  4.08s/it]\n"
     ]
    },
    {
     "name": "stdout",
     "output_type": "stream",
     "text": [
      "Epoch 1/1 - Train Loss: 0.0390\n",
      "\n",
      "Training Client Wolfgang (2/4)...\n"
     ]
    },
    {
     "name": "stderr",
     "output_type": "stream",
     "text": [
      "Epoch 1/1: 100%|██████████| 8/8 [00:32<00:00,  4.02s/it]\n"
     ]
    },
    {
     "name": "stdout",
     "output_type": "stream",
     "text": [
      "Epoch 1/1 - Train Loss: 0.0857\n",
      "\n",
      "Training Client Friederike (3/4)...\n"
     ]
    },
    {
     "name": "stderr",
     "output_type": "stream",
     "text": [
      "Epoch 1/1: 100%|██████████| 8/8 [00:32<00:00,  4.04s/it]\n"
     ]
    },
    {
     "name": "stdout",
     "output_type": "stream",
     "text": [
      "Epoch 1/1 - Train Loss: 0.0533\n",
      "\n",
      "Training Client Margot (4/4)...\n"
     ]
    },
    {
     "name": "stderr",
     "output_type": "stream",
     "text": [
      "Epoch 1/1: 100%|██████████| 8/8 [00:32<00:00,  4.08s/it]\n"
     ]
    },
    {
     "name": "stdout",
     "output_type": "stream",
     "text": [
      "Epoch 1/1 - Train Loss: 0.0858\n",
      "\n",
      "Fetching client data...\n",
      "\n",
      "Aggregating client parameters...\n",
      "\n",
      "Updating host model\n",
      "\n",
      "Sending updated model to clients...\n",
      "\n",
      "Evaluating model performance on test set...\n",
      "\n",
      "Test Results:\n",
      "==================================================\n",
      "Test Loss: 0.740447\n",
      "Test IoU: 0.371152\n",
      "==================================================\n",
      "\n",
      "Starting round 9/10...\n",
      "==================================================\n",
      "\n",
      "Training Client Roswitha (1/4)...\n"
     ]
    },
    {
     "name": "stderr",
     "output_type": "stream",
     "text": [
      "Epoch 1/1: 100%|██████████| 8/8 [00:32<00:00,  4.09s/it]\n"
     ]
    },
    {
     "name": "stdout",
     "output_type": "stream",
     "text": [
      "Epoch 1/1 - Train Loss: 0.0547\n",
      "\n",
      "Training Client Wolfgang (2/4)...\n"
     ]
    },
    {
     "name": "stderr",
     "output_type": "stream",
     "text": [
      "Epoch 1/1: 100%|██████████| 8/8 [00:32<00:00,  4.09s/it]\n"
     ]
    },
    {
     "name": "stdout",
     "output_type": "stream",
     "text": [
      "Epoch 1/1 - Train Loss: 0.0439\n",
      "\n",
      "Training Client Friederike (3/4)...\n"
     ]
    },
    {
     "name": "stderr",
     "output_type": "stream",
     "text": [
      "Epoch 1/1: 100%|██████████| 8/8 [00:32<00:00,  4.05s/it]\n"
     ]
    },
    {
     "name": "stdout",
     "output_type": "stream",
     "text": [
      "Epoch 1/1 - Train Loss: 0.0380\n",
      "\n",
      "Training Client Margot (4/4)...\n"
     ]
    },
    {
     "name": "stderr",
     "output_type": "stream",
     "text": [
      "Epoch 1/1: 100%|██████████| 8/8 [00:32<00:00,  4.03s/it]\n"
     ]
    },
    {
     "name": "stdout",
     "output_type": "stream",
     "text": [
      "Epoch 1/1 - Train Loss: 0.0461\n",
      "\n",
      "Fetching client data...\n",
      "\n",
      "Aggregating client parameters...\n",
      "\n",
      "Updating host model\n",
      "\n",
      "Sending updated model to clients...\n",
      "\n",
      "Evaluating model performance on test set...\n",
      "\n",
      "Test Results:\n",
      "==================================================\n",
      "Test Loss: 0.922012\n",
      "Test IoU: 0.337564\n",
      "==================================================\n",
      "\n",
      "Starting round 10/10...\n",
      "==================================================\n",
      "\n",
      "Training Client Roswitha (1/4)...\n"
     ]
    },
    {
     "name": "stderr",
     "output_type": "stream",
     "text": [
      "Epoch 1/1: 100%|██████████| 8/8 [00:32<00:00,  4.03s/it]\n"
     ]
    },
    {
     "name": "stdout",
     "output_type": "stream",
     "text": [
      "Epoch 1/1 - Train Loss: 0.0348\n",
      "\n",
      "Training Client Wolfgang (2/4)...\n"
     ]
    },
    {
     "name": "stderr",
     "output_type": "stream",
     "text": [
      "Epoch 1/1: 100%|██████████| 8/8 [00:32<00:00,  4.03s/it]\n"
     ]
    },
    {
     "name": "stdout",
     "output_type": "stream",
     "text": [
      "Epoch 1/1 - Train Loss: 0.0399\n",
      "\n",
      "Training Client Friederike (3/4)...\n"
     ]
    },
    {
     "name": "stderr",
     "output_type": "stream",
     "text": [
      "Epoch 1/1: 100%|██████████| 8/8 [00:32<00:00,  4.09s/it]\n"
     ]
    },
    {
     "name": "stdout",
     "output_type": "stream",
     "text": [
      "Epoch 1/1 - Train Loss: 0.0285\n",
      "\n",
      "Training Client Margot (4/4)...\n"
     ]
    },
    {
     "name": "stderr",
     "output_type": "stream",
     "text": [
      "Epoch 1/1: 100%|██████████| 8/8 [00:32<00:00,  4.10s/it]\n"
     ]
    },
    {
     "name": "stdout",
     "output_type": "stream",
     "text": [
      "Epoch 1/1 - Train Loss: 0.0538\n",
      "\n",
      "Fetching client data...\n",
      "\n",
      "Aggregating client parameters...\n",
      "\n",
      "Updating host model\n",
      "\n",
      "Sending updated model to clients...\n",
      "\n",
      "Evaluating model performance on test set...\n",
      "\n",
      "Test Results:\n",
      "==================================================\n",
      "Test Loss: 1.314034\n",
      "Test IoU: 0.308754\n",
      "==================================================\n",
      "\n",
      "==================================================\n",
      "Experiment: FedAvg, MCDropout\n",
      "Plot Data:\n",
      "Loss: [0.17177299295480436, 0.2211948186159134, 0.17288899077818945, 0.3131451354576991, 0.5943202124192164, 0.5647536241091214, 0.7827647741024311, 0.8236138270451472, 0.7404467784441434, 0.9220117789048415, 1.314033710039579]\n",
      "IoU: [0.6391629484983591, 0.56448256281706, 0.6089140623807907, 0.5163414134429052, 0.4235603087223493, 0.41416906393491304, 0.38992800620886, 0.37401099846913266, 0.37115232531840986, 0.33756370613208186, 0.3087538732932164]\n",
      "Other Data:\n",
      "==================================================\n"
     ]
    },
    {
     "data": {
      "image/png": "[encoded data removed]",
      "text/plain": [
       "<Figure size 640x480 with 1 Axes>"
      ]
     },
     "metadata": {},
     "output_type": "display_data"
    },
    {
     "data": {
      "image/png": "[encoded data removed]",
      "text/plain": [
       "<Figure size 640x480 with 1 Axes>"
      ]
     },
     "metadata": {},
     "output_type": "display_data"
    }
   ],
   "source": [
    "config = {\n",
    "    \"ROUNDS\": 10,\n",
    "    \"N_CLIENTS\": 4,\n",
    "    \"CLIENT_ITERATIONS\": 1,\n",
    "    \"CLIENT_BATCH_SIZE\": 8,\n",
    "    \"N_DATAPOINTS_PER_ROUND\": 64\n",
    "}\n",
    "    \n",
    "controller = FedAvgController(\"models/host_model_unet_320_dropout_75.pth\", config)\n",
    "controller.run(test=True, labeling_methode=\"monte carlo dropout\")\n"
   ]
  },
  {
   "cell_type": "code",
   "execution_count": null,
   "metadata": {},
   "outputs": [
    {
     "name": "stdout",
     "output_type": "stream",
     "text": [
      "Host Device: cuda\n",
      "Bärbel Device: cuda\n",
      "Dorothea Device: cuda\n",
      "Waltraud Device: cuda\n",
      "Petra Device: cuda\n"
     ]
    },
    {
     "ename": "TypeError",
     "evalue": "FedAvgController.run() got an unexpected keyword argument 'labeling_method'",
     "output_type": "error",
     "traceback": [
      "\u001b[1;31m---------------------------------------------------------------------------\u001b[0m",
      "\u001b[1;31mTypeError\u001b[0m                                 Traceback (most recent call last)",
      "Cell \u001b[1;32mIn[10], line 10\u001b[0m\n\u001b[0;32m      1\u001b[0m config \u001b[38;5;241m=\u001b[39m {\n\u001b[0;32m      2\u001b[0m     \u001b[38;5;124m\"\u001b[39m\u001b[38;5;124mROUNDS\u001b[39m\u001b[38;5;124m\"\u001b[39m: \u001b[38;5;241m10\u001b[39m,\n\u001b[0;32m      3\u001b[0m     \u001b[38;5;124m\"\u001b[39m\u001b[38;5;124mN_CLIENTS\u001b[39m\u001b[38;5;124m\"\u001b[39m: \u001b[38;5;241m4\u001b[39m,\n\u001b[1;32m   (...)\u001b[0m\n\u001b[0;32m      6\u001b[0m     \u001b[38;5;124m\"\u001b[39m\u001b[38;5;124mN_DATAPOINTS_PER_ROUND\u001b[39m\u001b[38;5;124m\"\u001b[39m: \u001b[38;5;241m64\u001b[39m\n\u001b[0;32m      7\u001b[0m }\n\u001b[0;32m      9\u001b[0m controller \u001b[38;5;241m=\u001b[39m FedAvgController(\u001b[38;5;124m\"\u001b[39m\u001b[38;5;124mmodels/host_model_unet_320_dropout_75.pth\u001b[39m\u001b[38;5;124m\"\u001b[39m, config)\n\u001b[1;32m---> 10\u001b[0m \u001b[43mcontroller\u001b[49m\u001b[38;5;241;43m.\u001b[39;49m\u001b[43mrun\u001b[49m\u001b[43m(\u001b[49m\u001b[43mtest\u001b[49m\u001b[38;5;241;43m=\u001b[39;49m\u001b[38;5;28;43;01mTrue\u001b[39;49;00m\u001b[43m,\u001b[49m\u001b[43m \u001b[49m\u001b[43mlabeling_method\u001b[49m\u001b[38;5;241;43m=\u001b[39;49m\u001b[38;5;124;43m\"\u001b[39;49m\u001b[38;5;124;43mtrue labels\u001b[39;49m\u001b[38;5;124;43m\"\u001b[39;49m\u001b[43m)\u001b[49m\n",
      "File \u001b[1;32mc:\\Users\\PC\\Desktop\\FederatedLearning\\FederatedLearning\\code\\DataCollector.py:67\u001b[0m, in \u001b[0;36mdata_collector.<locals>.wrapper\u001b[1;34m(*args, **kwargs)\u001b[0m\n\u001b[0;32m     65\u001b[0m \u001b[38;5;28;01mdef\u001b[39;00m\u001b[38;5;250m \u001b[39m\u001b[38;5;21mwrapper\u001b[39m(\u001b[38;5;241m*\u001b[39margs, \u001b[38;5;241m*\u001b[39m\u001b[38;5;241m*\u001b[39mkwargs):\n\u001b[0;32m     66\u001b[0m     data \u001b[38;5;241m=\u001b[39m CollectedData()\n\u001b[1;32m---> 67\u001b[0m     \u001b[43mfunc\u001b[49m\u001b[43m(\u001b[49m\u001b[38;5;241;43m*\u001b[39;49m\u001b[43margs\u001b[49m\u001b[43m,\u001b[49m\u001b[43m \u001b[49m\u001b[38;5;241;43m*\u001b[39;49m\u001b[38;5;241;43m*\u001b[39;49m\u001b[43mkwargs\u001b[49m\u001b[43m,\u001b[49m\u001b[43m \u001b[49m\u001b[43mdata\u001b[49m\u001b[38;5;241;43m=\u001b[39;49m\u001b[43mdata\u001b[49m\u001b[43m)\u001b[49m\n\u001b[0;32m     68\u001b[0m     \u001b[38;5;28mprint\u001b[39m(data)\n\u001b[0;32m     69\u001b[0m     data\u001b[38;5;241m.\u001b[39mplot()\n",
      "\u001b[1;31mTypeError\u001b[0m: FedAvgController.run() got an unexpected keyword argument 'labeling_method'"
     ]
    }
   ],
   "source": [
    "config = {\n",
    "    \"ROUNDS\": 10,\n",
    "    \"N_CLIENTS\": 4,\n",
    "    \"CLIENT_ITERATIONS\": 1,\n",
    "    \"CLIENT_BATCH_SIZE\": 8,\n",
    "    \"N_DATAPOINTS_PER_ROUND\": 64\n",
    "}\n",
    "    \n",
    "controller = FedAvgController(\"models/host_model_unet_320_dropout_75.pth\", config)\n",
    "controller.run(test=True, labeling_method=\"true labels\")\n"
   ]
  },
  {
   "cell_type": "code",
   "execution_count": null,
   "metadata": {},
   "outputs": [],
   "source": []
  }
 ],
 "metadata": {
  "kernelspec": {
   "display_name": "MA",
   "language": "python",
   "name": "python3"
  },
  "language_info": {
   "codemirror_mode": {
    "name": "ipython",
    "version": 3
   },
   "file_extension": ".py",
   "mimetype": "text/x-python",
   "name": "python",
   "nbconvert_exporter": "python",
   "pygments_lexer": "ipython3",
   "version": "3.12.9"
  }
 },
 "nbformat": 4,
 "nbformat_minor": 2
}
