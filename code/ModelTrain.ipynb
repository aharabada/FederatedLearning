{
 "cells": [
  {
   "cell_type": "code",
   "id": "initial_id",
   "metadata": {
    "collapsed": true,
    "ExecuteTime": {
     "end_time": "2025-02-27T23:01:10.934270Z",
     "start_time": "2025-02-27T23:01:04.416251Z"
    }
   },
   "source": [
    "import os\n",
    "from Host import Host\n",
    "from nn_util.DataSet import create_data_loader, EyeBinaryMaskDataset\n",
    "from nn_util.UNet import PupilSegmentationUNet\n",
    "from nn_util.UNet import load_model\n",
    "\n",
    "# since this Notebook is in the code folder, we need to go up one level, so every module works as expected\n",
    "if(os.getcwd().endswith(\"code\")):\n",
    "    os.chdir(\"..\")\n",
    "print(os.getcwd())\n",
    "\n",
    "data_loader = {\n",
    "    \"train\": create_data_loader(\"dataset/1k_images/host_data/training_data/binary_mask/annotations_binary_mask.csv\", EyeBinaryMaskDataset),\n",
    "    \"valid\": create_data_loader(\"dataset/1k_images/host_data/valid_data/binary_mask/annotations_binary_mask.csv\", EyeBinaryMaskDataset),\n",
    "    \"test\": create_data_loader(\"dataset/1k_images/host_data/test_data/binary_mask/annotations_binary_mask.csv\", EyeBinaryMaskDataset)\n",
    "}"
   ],
   "outputs": [
    {
     "name": "stdout",
     "output_type": "stream",
     "text": [
      "D:\\Development\\Uni\\FL\\FederatedLearning\n"
     ]
    }
   ],
   "execution_count": 1
  },
  {
   "metadata": {
    "ExecuteTime": {
     "end_time": "2025-02-27T23:22:05.716198Z",
     "start_time": "2025-02-27T23:01:10.943278Z"
    }
   },
   "cell_type": "code",
   "source": [
    "unet = PupilSegmentationUNet()\n",
    "host = Host(unet, data_loader)\n",
    "host.inital_training(25, model_name = \"host_model_25.pth\")"
   ],
   "id": "666495d3c4b4da2e",
   "outputs": [
    {
     "name": "stdout",
     "output_type": "stream",
     "text": [
      "Host Device: cuda\n"
     ]
    },
    {
     "name": "stderr",
     "output_type": "stream",
     "text": [
      "Epoch 1/25: 100%|██████████| 40/40 [00:22<00:00,  1.77it/s]\n"
     ]
    },
    {
     "name": "stdout",
     "output_type": "stream",
     "text": [
      "Epoch 1/25\n",
      "Train Loss: 0.6761\n",
      "Valid Loss: 0.6533\n",
      "Current LR: 0.000500\n",
      "--------------------------------------------------\n"
     ]
    },
    {
     "name": "stderr",
     "output_type": "stream",
     "text": [
      "Epoch 2/25: 100%|██████████| 40/40 [00:22<00:00,  1.80it/s]\n"
     ]
    },
    {
     "name": "stdout",
     "output_type": "stream",
     "text": [
      "Epoch 2/25\n",
      "Train Loss: 0.5502\n",
      "Valid Loss: 0.5414\n",
      "Current LR: 0.000500\n",
      "--------------------------------------------------\n"
     ]
    },
    {
     "name": "stderr",
     "output_type": "stream",
     "text": [
      "Epoch 3/25: 100%|██████████| 40/40 [00:22<00:00,  1.80it/s]\n"
     ]
    },
    {
     "name": "stdout",
     "output_type": "stream",
     "text": [
      "Epoch 3/25\n",
      "Train Loss: 0.4786\n",
      "Valid Loss: 0.4936\n",
      "Current LR: 0.000500\n",
      "--------------------------------------------------\n"
     ]
    },
    {
     "name": "stderr",
     "output_type": "stream",
     "text": [
      "Epoch 4/25: 100%|██████████| 40/40 [00:22<00:00,  1.77it/s]\n"
     ]
    },
    {
     "name": "stdout",
     "output_type": "stream",
     "text": [
      "Epoch 4/25\n",
      "Train Loss: 0.4158\n",
      "Valid Loss: 0.4295\n",
      "Current LR: 0.000500\n",
      "--------------------------------------------------\n"
     ]
    },
    {
     "name": "stderr",
     "output_type": "stream",
     "text": [
      "Epoch 5/25: 100%|██████████| 40/40 [00:41<00:00,  1.05s/it]\n"
     ]
    },
    {
     "name": "stdout",
     "output_type": "stream",
     "text": [
      "Epoch 5/25\n",
      "Train Loss: 0.3501\n",
      "Valid Loss: 0.3986\n",
      "Current LR: 0.000500\n",
      "--------------------------------------------------\n"
     ]
    },
    {
     "name": "stderr",
     "output_type": "stream",
     "text": [
      "Epoch 6/25: 100%|██████████| 40/40 [00:41<00:00,  1.03s/it]\n"
     ]
    },
    {
     "name": "stdout",
     "output_type": "stream",
     "text": [
      "Epoch 6/25\n",
      "Train Loss: 0.3080\n",
      "Valid Loss: 0.3536\n",
      "Current LR: 0.000500\n",
      "--------------------------------------------------\n"
     ]
    },
    {
     "name": "stderr",
     "output_type": "stream",
     "text": [
      "Epoch 7/25: 100%|██████████| 40/40 [00:41<00:00,  1.03s/it]\n"
     ]
    },
    {
     "name": "stdout",
     "output_type": "stream",
     "text": [
      "Epoch 7/25\n",
      "Train Loss: 0.2601\n",
      "Valid Loss: 0.3200\n",
      "Current LR: 0.000500\n",
      "--------------------------------------------------\n"
     ]
    },
    {
     "name": "stderr",
     "output_type": "stream",
     "text": [
      "Epoch 8/25: 100%|██████████| 40/40 [00:41<00:00,  1.03s/it]\n"
     ]
    },
    {
     "name": "stdout",
     "output_type": "stream",
     "text": [
      "Epoch 8/25\n",
      "Train Loss: 0.2259\n",
      "Valid Loss: 0.3947\n",
      "Current LR: 0.000500\n",
      "--------------------------------------------------\n"
     ]
    },
    {
     "name": "stderr",
     "output_type": "stream",
     "text": [
      "Epoch 9/25: 100%|██████████| 40/40 [00:41<00:00,  1.03s/it]\n"
     ]
    },
    {
     "name": "stdout",
     "output_type": "stream",
     "text": [
      "Epoch 9/25\n",
      "Train Loss: 0.2247\n",
      "Valid Loss: 0.2589\n",
      "Current LR: 0.000500\n",
      "--------------------------------------------------\n"
     ]
    },
    {
     "name": "stderr",
     "output_type": "stream",
     "text": [
      "Epoch 10/25: 100%|██████████| 40/40 [00:41<00:00,  1.03s/it]\n"
     ]
    },
    {
     "name": "stdout",
     "output_type": "stream",
     "text": [
      "Epoch 10/25\n",
      "Train Loss: 0.2042\n",
      "Valid Loss: 0.1799\n",
      "Current LR: 0.000500\n",
      "--------------------------------------------------\n"
     ]
    },
    {
     "name": "stderr",
     "output_type": "stream",
     "text": [
      "Epoch 11/25: 100%|██████████| 40/40 [00:41<00:00,  1.03s/it]\n"
     ]
    },
    {
     "name": "stdout",
     "output_type": "stream",
     "text": [
      "Epoch 11/25\n",
      "Train Loss: 0.1738\n",
      "Valid Loss: 0.1681\n",
      "Current LR: 0.000500\n",
      "--------------------------------------------------\n"
     ]
    },
    {
     "name": "stderr",
     "output_type": "stream",
     "text": [
      "Epoch 12/25: 100%|██████████| 40/40 [00:40<00:00,  1.02s/it]\n"
     ]
    },
    {
     "name": "stdout",
     "output_type": "stream",
     "text": [
      "Epoch 12/25\n",
      "Train Loss: 0.1683\n",
      "Valid Loss: 0.1638\n",
      "Current LR: 0.000500\n",
      "--------------------------------------------------\n"
     ]
    },
    {
     "name": "stderr",
     "output_type": "stream",
     "text": [
      "Epoch 13/25: 100%|██████████| 40/40 [00:41<00:00,  1.03s/it]\n"
     ]
    },
    {
     "name": "stdout",
     "output_type": "stream",
     "text": [
      "Epoch 13/25\n",
      "Train Loss: 0.1606\n",
      "Valid Loss: 0.1441\n",
      "Current LR: 0.000500\n",
      "--------------------------------------------------\n"
     ]
    },
    {
     "name": "stderr",
     "output_type": "stream",
     "text": [
      "Epoch 14/25: 100%|██████████| 40/40 [00:40<00:00,  1.01s/it]\n"
     ]
    },
    {
     "name": "stdout",
     "output_type": "stream",
     "text": [
      "Epoch 14/25\n",
      "Train Loss: 0.1562\n",
      "Valid Loss: 0.1795\n",
      "Current LR: 0.000500\n",
      "--------------------------------------------------\n"
     ]
    },
    {
     "name": "stderr",
     "output_type": "stream",
     "text": [
      "Epoch 15/25: 100%|██████████| 40/40 [00:41<00:00,  1.03s/it]\n"
     ]
    },
    {
     "name": "stdout",
     "output_type": "stream",
     "text": [
      "Epoch 15/25\n",
      "Train Loss: 0.1621\n",
      "Valid Loss: 0.1513\n",
      "Current LR: 0.000500\n",
      "--------------------------------------------------\n"
     ]
    },
    {
     "name": "stderr",
     "output_type": "stream",
     "text": [
      "Epoch 16/25: 100%|██████████| 40/40 [00:41<00:00,  1.03s/it]\n"
     ]
    },
    {
     "name": "stdout",
     "output_type": "stream",
     "text": [
      "Epoch 16/25\n",
      "Train Loss: 0.1403\n",
      "Valid Loss: 0.1533\n",
      "Current LR: 0.000500\n",
      "--------------------------------------------------\n"
     ]
    },
    {
     "name": "stderr",
     "output_type": "stream",
     "text": [
      "Epoch 17/25: 100%|██████████| 40/40 [00:42<00:00,  1.06s/it]\n"
     ]
    },
    {
     "name": "stdout",
     "output_type": "stream",
     "text": [
      "Epoch 17/25\n",
      "Train Loss: 0.1327\n",
      "Valid Loss: 0.1928\n",
      "Current LR: 0.000500\n",
      "--------------------------------------------------\n"
     ]
    },
    {
     "name": "stderr",
     "output_type": "stream",
     "text": [
      "Epoch 18/25: 100%|██████████| 40/40 [00:51<00:00,  1.28s/it]\n"
     ]
    },
    {
     "name": "stdout",
     "output_type": "stream",
     "text": [
      "Epoch 18/25\n",
      "Train Loss: 0.1409\n",
      "Valid Loss: 0.1958\n",
      "Current LR: 0.000500\n",
      "--------------------------------------------------\n"
     ]
    },
    {
     "name": "stderr",
     "output_type": "stream",
     "text": [
      "Epoch 19/25: 100%|██████████| 40/40 [00:41<00:00,  1.03s/it]\n"
     ]
    },
    {
     "name": "stdout",
     "output_type": "stream",
     "text": [
      "Epoch 19/25\n",
      "Train Loss: 0.1416\n",
      "Valid Loss: 0.1277\n",
      "Current LR: 0.000500\n",
      "--------------------------------------------------\n"
     ]
    },
    {
     "name": "stderr",
     "output_type": "stream",
     "text": [
      "Epoch 20/25: 100%|██████████| 40/40 [00:41<00:00,  1.03s/it]\n"
     ]
    },
    {
     "name": "stdout",
     "output_type": "stream",
     "text": [
      "Epoch 20/25\n",
      "Train Loss: 0.1529\n",
      "Valid Loss: 0.1440\n",
      "Current LR: 0.000500\n",
      "--------------------------------------------------\n"
     ]
    },
    {
     "name": "stderr",
     "output_type": "stream",
     "text": [
      "Epoch 21/25: 100%|██████████| 40/40 [00:41<00:00,  1.03s/it]\n"
     ]
    },
    {
     "name": "stdout",
     "output_type": "stream",
     "text": [
      "Epoch 21/25\n",
      "Train Loss: 0.1425\n",
      "Valid Loss: 0.1433\n",
      "Current LR: 0.000500\n",
      "--------------------------------------------------\n"
     ]
    },
    {
     "name": "stderr",
     "output_type": "stream",
     "text": [
      "Epoch 22/25: 100%|██████████| 40/40 [00:41<00:00,  1.03s/it]\n"
     ]
    },
    {
     "name": "stdout",
     "output_type": "stream",
     "text": [
      "Epoch 22/25\n",
      "Train Loss: 0.1343\n",
      "Valid Loss: 0.2491\n",
      "Current LR: 0.000500\n",
      "--------------------------------------------------\n"
     ]
    },
    {
     "name": "stderr",
     "output_type": "stream",
     "text": [
      "Epoch 23/25: 100%|██████████| 40/40 [00:41<00:00,  1.03s/it]\n"
     ]
    },
    {
     "name": "stdout",
     "output_type": "stream",
     "text": [
      "Epoch 23/25\n",
      "Train Loss: 0.1372\n",
      "Valid Loss: 0.1187\n",
      "Current LR: 0.000500\n",
      "--------------------------------------------------\n"
     ]
    },
    {
     "name": "stderr",
     "output_type": "stream",
     "text": [
      "Epoch 24/25: 100%|██████████| 40/40 [00:41<00:00,  1.03s/it]\n"
     ]
    },
    {
     "name": "stdout",
     "output_type": "stream",
     "text": [
      "Epoch 24/25\n",
      "Train Loss: 0.1245\n",
      "Valid Loss: 0.1727\n",
      "Current LR: 0.000500\n",
      "--------------------------------------------------\n"
     ]
    },
    {
     "name": "stderr",
     "output_type": "stream",
     "text": [
      "Epoch 25/25: 100%|██████████| 40/40 [00:40<00:00,  1.02s/it]\n"
     ]
    },
    {
     "name": "stdout",
     "output_type": "stream",
     "text": [
      "Epoch 25/25\n",
      "Train Loss: 0.1280\n",
      "Valid Loss: 0.1339\n",
      "Current LR: 0.000500\n",
      "--------------------------------------------------\n",
      "Model saved to models\\host_model_25.pth\n",
      "\n",
      "Evaluating final model performance on test set...\n",
      "\n",
      "Final Test Results:\n",
      "==================================================\n",
      "Test Loss: 0.139041\n",
      "Test IoU: 0.659077\n",
      "==================================================\n"
     ]
    }
   ],
   "execution_count": 2
  },
  {
   "metadata": {
    "ExecuteTime": {
     "end_time": "2025-02-27T23:44:28.733523Z",
     "start_time": "2025-02-27T23:22:06.402403Z"
    }
   },
   "cell_type": "code",
   "source": [
    "model = load_model(\"models/host_model_50_epochs.pth\")\n",
    "host = Host(model, data_loader)\n",
    "host.inital_training(25, model_name = \"host_model_75.pth\")"
   ],
   "id": "52a67edaac96d63",
   "outputs": [
    {
     "name": "stdout",
     "output_type": "stream",
     "text": [
      "Host Device: cuda\n"
     ]
    },
    {
     "name": "stderr",
     "output_type": "stream",
     "text": [
      "Epoch 1/25: 100%|██████████| 40/40 [00:41<00:00,  1.03s/it]\n"
     ]
    },
    {
     "name": "stdout",
     "output_type": "stream",
     "text": [
      "Epoch 1/25\n",
      "Train Loss: 0.1825\n",
      "Valid Loss: 0.2073\n",
      "Current LR: 0.000500\n",
      "--------------------------------------------------\n"
     ]
    },
    {
     "name": "stderr",
     "output_type": "stream",
     "text": [
      "Epoch 2/25: 100%|██████████| 40/40 [00:40<00:00,  1.02s/it]\n"
     ]
    },
    {
     "name": "stdout",
     "output_type": "stream",
     "text": [
      "Epoch 2/25\n",
      "Train Loss: 0.1693\n",
      "Valid Loss: 0.2374\n",
      "Current LR: 0.000500\n",
      "--------------------------------------------------\n"
     ]
    },
    {
     "name": "stderr",
     "output_type": "stream",
     "text": [
      "Epoch 3/25: 100%|██████████| 40/40 [00:40<00:00,  1.02s/it]\n"
     ]
    },
    {
     "name": "stdout",
     "output_type": "stream",
     "text": [
      "Epoch 3/25\n",
      "Train Loss: 0.1609\n",
      "Valid Loss: 0.2250\n",
      "Current LR: 0.000500\n",
      "--------------------------------------------------\n"
     ]
    },
    {
     "name": "stderr",
     "output_type": "stream",
     "text": [
      "Epoch 4/25: 100%|██████████| 40/40 [00:41<00:00,  1.03s/it]\n"
     ]
    },
    {
     "name": "stdout",
     "output_type": "stream",
     "text": [
      "Epoch 4/25\n",
      "Train Loss: 0.1565\n",
      "Valid Loss: 0.1372\n",
      "Current LR: 0.000500\n",
      "--------------------------------------------------\n"
     ]
    },
    {
     "name": "stderr",
     "output_type": "stream",
     "text": [
      "Epoch 5/25: 100%|██████████| 40/40 [00:41<00:00,  1.04s/it]\n"
     ]
    },
    {
     "name": "stdout",
     "output_type": "stream",
     "text": [
      "Epoch 5/25\n",
      "Train Loss: 0.1352\n",
      "Valid Loss: 0.1953\n",
      "Current LR: 0.000500\n",
      "--------------------------------------------------\n"
     ]
    },
    {
     "name": "stderr",
     "output_type": "stream",
     "text": [
      "Epoch 6/25: 100%|██████████| 40/40 [00:41<00:00,  1.03s/it]\n"
     ]
    },
    {
     "name": "stdout",
     "output_type": "stream",
     "text": [
      "Epoch 6/25\n",
      "Train Loss: 0.1434\n",
      "Valid Loss: 0.1424\n",
      "Current LR: 0.000500\n",
      "--------------------------------------------------\n"
     ]
    },
    {
     "name": "stderr",
     "output_type": "stream",
     "text": [
      "Epoch 7/25: 100%|██████████| 40/40 [00:41<00:00,  1.03s/it]\n"
     ]
    },
    {
     "name": "stdout",
     "output_type": "stream",
     "text": [
      "Epoch 7/25\n",
      "Train Loss: 0.1326\n",
      "Valid Loss: 0.1353\n",
      "Current LR: 0.000500\n",
      "--------------------------------------------------\n"
     ]
    },
    {
     "name": "stderr",
     "output_type": "stream",
     "text": [
      "Epoch 8/25: 100%|██████████| 40/40 [00:41<00:00,  1.03s/it]\n"
     ]
    },
    {
     "name": "stdout",
     "output_type": "stream",
     "text": [
      "Epoch 8/25\n",
      "Train Loss: 0.1184\n",
      "Valid Loss: 0.1416\n",
      "Current LR: 0.000500\n",
      "--------------------------------------------------\n"
     ]
    },
    {
     "name": "stderr",
     "output_type": "stream",
     "text": [
      "Epoch 9/25: 100%|██████████| 40/40 [00:41<00:00,  1.04s/it]\n"
     ]
    },
    {
     "name": "stdout",
     "output_type": "stream",
     "text": [
      "Epoch 9/25\n",
      "Train Loss: 0.1231\n",
      "Valid Loss: 0.0985\n",
      "Current LR: 0.000500\n",
      "--------------------------------------------------\n"
     ]
    },
    {
     "name": "stderr",
     "output_type": "stream",
     "text": [
      "Epoch 10/25: 100%|██████████| 40/40 [00:41<00:00,  1.04s/it]\n"
     ]
    },
    {
     "name": "stdout",
     "output_type": "stream",
     "text": [
      "Epoch 10/25\n",
      "Train Loss: 0.1163\n",
      "Valid Loss: 0.1516\n",
      "Current LR: 0.000500\n",
      "--------------------------------------------------\n"
     ]
    },
    {
     "name": "stderr",
     "output_type": "stream",
     "text": [
      "Epoch 11/25: 100%|██████████| 40/40 [00:41<00:00,  1.03s/it]\n"
     ]
    },
    {
     "name": "stdout",
     "output_type": "stream",
     "text": [
      "Epoch 11/25\n",
      "Train Loss: 0.1203\n",
      "Valid Loss: 0.1536\n",
      "Current LR: 0.000500\n",
      "--------------------------------------------------\n"
     ]
    },
    {
     "name": "stderr",
     "output_type": "stream",
     "text": [
      "Epoch 12/25: 100%|██████████| 40/40 [00:40<00:00,  1.02s/it]\n"
     ]
    },
    {
     "name": "stdout",
     "output_type": "stream",
     "text": [
      "Epoch 12/25\n",
      "Train Loss: 0.1162\n",
      "Valid Loss: 0.1473\n",
      "Current LR: 0.000500\n",
      "--------------------------------------------------\n"
     ]
    },
    {
     "name": "stderr",
     "output_type": "stream",
     "text": [
      "Epoch 13/25: 100%|██████████| 40/40 [00:41<00:00,  1.03s/it]\n"
     ]
    },
    {
     "name": "stdout",
     "output_type": "stream",
     "text": [
      "Epoch 13/25\n",
      "Train Loss: 0.1150\n",
      "Valid Loss: 0.1225\n",
      "Current LR: 0.000500\n",
      "--------------------------------------------------\n"
     ]
    },
    {
     "name": "stderr",
     "output_type": "stream",
     "text": [
      "Epoch 14/25: 100%|██████████| 40/40 [00:41<00:00,  1.03s/it]\n"
     ]
    },
    {
     "name": "stdout",
     "output_type": "stream",
     "text": [
      "Epoch 14/25\n",
      "Train Loss: 0.1117\n",
      "Valid Loss: 0.0912\n",
      "Current LR: 0.000500\n",
      "--------------------------------------------------\n"
     ]
    },
    {
     "name": "stderr",
     "output_type": "stream",
     "text": [
      "Epoch 15/25: 100%|██████████| 40/40 [00:41<00:00,  1.03s/it]\n"
     ]
    },
    {
     "name": "stdout",
     "output_type": "stream",
     "text": [
      "Epoch 15/25\n",
      "Train Loss: 0.1221\n",
      "Valid Loss: 0.0780\n",
      "Current LR: 0.000500\n",
      "--------------------------------------------------\n"
     ]
    },
    {
     "name": "stderr",
     "output_type": "stream",
     "text": [
      "Epoch 16/25: 100%|██████████| 40/40 [00:41<00:00,  1.03s/it]\n"
     ]
    },
    {
     "name": "stdout",
     "output_type": "stream",
     "text": [
      "Epoch 16/25\n",
      "Train Loss: 0.0974\n",
      "Valid Loss: 0.0934\n",
      "Current LR: 0.000500\n",
      "--------------------------------------------------\n"
     ]
    },
    {
     "name": "stderr",
     "output_type": "stream",
     "text": [
      "Epoch 17/25: 100%|██████████| 40/40 [00:41<00:00,  1.03s/it]\n"
     ]
    },
    {
     "name": "stdout",
     "output_type": "stream",
     "text": [
      "Epoch 17/25\n",
      "Train Loss: 0.1178\n",
      "Valid Loss: 0.1973\n",
      "Current LR: 0.000500\n",
      "--------------------------------------------------\n"
     ]
    },
    {
     "name": "stderr",
     "output_type": "stream",
     "text": [
      "Epoch 18/25: 100%|██████████| 40/40 [00:41<00:00,  1.03s/it]\n"
     ]
    },
    {
     "name": "stdout",
     "output_type": "stream",
     "text": [
      "Epoch 18/25\n",
      "Train Loss: 0.1101\n",
      "Valid Loss: 0.1218\n",
      "Current LR: 0.000500\n",
      "--------------------------------------------------\n"
     ]
    },
    {
     "name": "stderr",
     "output_type": "stream",
     "text": [
      "Epoch 19/25: 100%|██████████| 40/40 [00:41<00:00,  1.03s/it]\n"
     ]
    },
    {
     "name": "stdout",
     "output_type": "stream",
     "text": [
      "Epoch 19/25\n",
      "Train Loss: 0.0956\n",
      "Valid Loss: 0.1158\n",
      "Current LR: 0.000500\n",
      "--------------------------------------------------\n"
     ]
    },
    {
     "name": "stderr",
     "output_type": "stream",
     "text": [
      "Epoch 20/25: 100%|██████████| 40/40 [00:41<00:00,  1.04s/it]\n"
     ]
    },
    {
     "name": "stdout",
     "output_type": "stream",
     "text": [
      "Epoch 20/25\n",
      "Train Loss: 0.0911\n",
      "Valid Loss: 0.1015\n",
      "Current LR: 0.000500\n",
      "--------------------------------------------------\n"
     ]
    },
    {
     "name": "stderr",
     "output_type": "stream",
     "text": [
      "Epoch 21/25: 100%|██████████| 40/40 [00:41<00:00,  1.03s/it]\n"
     ]
    },
    {
     "name": "stdout",
     "output_type": "stream",
     "text": [
      "Epoch 21/25\n",
      "Train Loss: 0.0964\n",
      "Valid Loss: 0.1214\n",
      "Current LR: 0.000250\n",
      "--------------------------------------------------\n"
     ]
    },
    {
     "name": "stderr",
     "output_type": "stream",
     "text": [
      "Epoch 22/25: 100%|██████████| 40/40 [00:41<00:00,  1.03s/it]\n"
     ]
    },
    {
     "name": "stdout",
     "output_type": "stream",
     "text": [
      "Epoch 22/25\n",
      "Train Loss: 0.0869\n",
      "Valid Loss: 0.1062\n",
      "Current LR: 0.000250\n",
      "--------------------------------------------------\n"
     ]
    },
    {
     "name": "stderr",
     "output_type": "stream",
     "text": [
      "Epoch 23/25: 100%|██████████| 40/40 [00:41<00:00,  1.03s/it]\n"
     ]
    },
    {
     "name": "stdout",
     "output_type": "stream",
     "text": [
      "Epoch 23/25\n",
      "Train Loss: 0.0836\n",
      "Valid Loss: 0.1071\n",
      "Current LR: 0.000250\n",
      "--------------------------------------------------\n"
     ]
    },
    {
     "name": "stderr",
     "output_type": "stream",
     "text": [
      "Epoch 24/25: 100%|██████████| 40/40 [00:41<00:00,  1.03s/it]\n"
     ]
    },
    {
     "name": "stdout",
     "output_type": "stream",
     "text": [
      "Epoch 24/25\n",
      "Train Loss: 0.0828\n",
      "Valid Loss: 0.0972\n",
      "Current LR: 0.000250\n",
      "--------------------------------------------------\n"
     ]
    },
    {
     "name": "stderr",
     "output_type": "stream",
     "text": [
      "Epoch 25/25: 100%|██████████| 40/40 [00:41<00:00,  1.03s/it]\n"
     ]
    },
    {
     "name": "stdout",
     "output_type": "stream",
     "text": [
      "Epoch 25/25\n",
      "Train Loss: 0.0870\n",
      "Valid Loss: 0.1109\n",
      "Current LR: 0.000250\n",
      "--------------------------------------------------\n",
      "Model saved to models\\host_model_75.pth\n",
      "\n",
      "Evaluating final model performance on test set...\n",
      "\n",
      "Final Test Results:\n",
      "==================================================\n",
      "Test Loss: 0.120347\n",
      "Test IoU: 0.687985\n",
      "==================================================\n"
     ]
    }
   ],
   "execution_count": 3
  },
  {
   "metadata": {},
   "cell_type": "code",
   "outputs": [],
   "execution_count": null,
   "source": "",
   "id": "7189b1b1b6189cba"
  }
 ],
 "metadata": {
  "kernelspec": {
   "display_name": "Python 3",
   "language": "python",
   "name": "python3"
  },
  "language_info": {
   "codemirror_mode": {
    "name": "ipython",
    "version": 2
   },
   "file_extension": ".py",
   "mimetype": "text/x-python",
   "name": "python",
   "nbconvert_exporter": "python",
   "pygments_lexer": "ipython2",
   "version": "2.7.6"
  }
 },
 "nbformat": 4,
 "nbformat_minor": 5
}
