{
 "cells": [
  {
   "cell_type": "markdown",
   "metadata": {},
   "source": [
    "# Experiment to FedAvg with Monte Carlo Dropout"
   ]
  },
  {
   "cell_type": "code",
   "metadata": {
    "ExecuteTime": {
     "end_time": "2025-02-25T17:08:45.750823Z",
     "start_time": "2025-02-25T17:08:40.487544Z"
    }
   },
   "source": [
    "from FedAvgController import FedAvgController\n",
    "import os"
   ],
   "outputs": [],
   "execution_count": 3
  },
  {
   "cell_type": "code",
   "metadata": {
    "ExecuteTime": {
     "end_time": "2025-02-25T17:08:45.758837Z",
     "start_time": "2025-02-25T17:08:45.754830Z"
    }
   },
   "source": [
    "os.chdir(\"..\")"
   ],
   "outputs": [],
   "execution_count": 4
  },
  {
   "cell_type": "code",
   "metadata": {
    "ExecuteTime": {
     "end_time": "2025-02-25T17:09:15.457230Z",
     "start_time": "2025-02-25T17:08:45.768585Z"
    }
   },
   "source": [
    "config = {\n",
    "    \"ROUNDS\": 10,\n",
    "    \"N_CLIENTS\": 5,\n",
    "    \"CLIENT_ITERATIONS\": 1,\n",
    "    \"CLIENT_BATCH_SIZE\": 1,\n",
    "    \"N_DATAPOINTS_PER_ROUND\": 32\n",
    "}\n",
    "    \n",
    "controller = FedAvgController(\"models/host_model_25_epochs.pth\", config)\n",
    "controller.run(test=True, labeling_method=\"monte carlo dropout\")\n"
   ],
   "outputs": [
    {
     "name": "stdout",
     "output_type": "stream",
     "text": [
      "Host Device: cuda\n",
      "Edith Device: cuda\n",
      "Elke Device: cuda\n",
      "Margot Device: cuda\n",
      "Heinz Device: cuda\n",
      "Brigitte Device: cuda\n",
      "\n",
      "Evaluating model performance on test set...\n",
      "\n",
      "Test Results:\n",
      "==================================================\n",
      "Test Loss: 0.376389\n",
      "Test IoU: 0.613318\n",
      "==================================================\n",
      "\n",
      "Starting round 1/10...\n",
      "==================================================\n",
      "\n",
      "Training Client Edith (1/5)...\n"
     ]
    },
    {
     "name": "stderr",
     "output_type": "stream",
     "text": [
      "Epoch 1/1:  72%|███████▏  | 72/100 [00:19<00:07,  3.64it/s]\n"
     ]
    },
    {
     "ename": "KeyboardInterrupt",
     "evalue": "",
     "output_type": "error",
     "traceback": [
      "\u001B[1;31m---------------------------------------------------------------------------\u001B[0m",
      "\u001B[1;31mKeyboardInterrupt\u001B[0m                         Traceback (most recent call last)",
      "Cell \u001B[1;32mIn[5], line 10\u001B[0m\n\u001B[0;32m      1\u001B[0m config \u001B[38;5;241m=\u001B[39m {\n\u001B[0;32m      2\u001B[0m     \u001B[38;5;124m\"\u001B[39m\u001B[38;5;124mROUNDS\u001B[39m\u001B[38;5;124m\"\u001B[39m: \u001B[38;5;241m10\u001B[39m,\n\u001B[0;32m      3\u001B[0m     \u001B[38;5;124m\"\u001B[39m\u001B[38;5;124mN_CLIENTS\u001B[39m\u001B[38;5;124m\"\u001B[39m: \u001B[38;5;241m5\u001B[39m,\n\u001B[1;32m   (...)\u001B[0m\n\u001B[0;32m      6\u001B[0m     \u001B[38;5;124m\"\u001B[39m\u001B[38;5;124mN_DATAPOINTS_PER_ROUND\u001B[39m\u001B[38;5;124m\"\u001B[39m: \u001B[38;5;241m500\u001B[39m \u001B[38;5;241m/\u001B[39m\u001B[38;5;241m/\u001B[39m \u001B[38;5;241m5\u001B[39m\n\u001B[0;32m      7\u001B[0m }\n\u001B[0;32m      9\u001B[0m controller \u001B[38;5;241m=\u001B[39m FedAvgController(\u001B[38;5;124m\"\u001B[39m\u001B[38;5;124mmodels/host_model_25_epochs.pth\u001B[39m\u001B[38;5;124m\"\u001B[39m, config)\n\u001B[1;32m---> 10\u001B[0m controller\u001B[38;5;241m.\u001B[39mrun(test\u001B[38;5;241m=\u001B[39m\u001B[38;5;28;01mTrue\u001B[39;00m, labeling_method\u001B[38;5;241m=\u001B[39m\u001B[38;5;124m\"\u001B[39m\u001B[38;5;124mmonte carlo dropout\u001B[39m\u001B[38;5;124m\"\u001B[39m)\n",
      "File \u001B[1;32mD:\\Development\\Uni\\FL\\FederatedLearning\\code\\DataCollector.py:67\u001B[0m, in \u001B[0;36mdata_collector.<locals>.wrapper\u001B[1;34m(*args, **kwargs)\u001B[0m\n\u001B[0;32m     65\u001B[0m \u001B[38;5;28;01mdef\u001B[39;00m \u001B[38;5;21mwrapper\u001B[39m(\u001B[38;5;241m*\u001B[39margs, \u001B[38;5;241m*\u001B[39m\u001B[38;5;241m*\u001B[39mkwargs):\n\u001B[0;32m     66\u001B[0m     data \u001B[38;5;241m=\u001B[39m CollectedData()\n\u001B[1;32m---> 67\u001B[0m     func(\u001B[38;5;241m*\u001B[39margs, \u001B[38;5;241m*\u001B[39m\u001B[38;5;241m*\u001B[39mkwargs, data\u001B[38;5;241m=\u001B[39mdata)\n\u001B[0;32m     68\u001B[0m     \u001B[38;5;28mprint\u001B[39m(data)\n\u001B[0;32m     69\u001B[0m     data\u001B[38;5;241m.\u001B[39mplot()\n",
      "File \u001B[1;32mD:\\Development\\Uni\\FL\\FederatedLearning\\code\\FedAvgController.py:103\u001B[0m, in \u001B[0;36mFedAvgController.run\u001B[1;34m(self, test, labeling_method, data)\u001B[0m\n\u001B[0;32m    101\u001B[0m \u001B[38;5;28;01mfor\u001B[39;00m i, client \u001B[38;5;129;01min\u001B[39;00m \u001B[38;5;28menumerate\u001B[39m(\u001B[38;5;28mself\u001B[39m\u001B[38;5;241m.\u001B[39mclients):\n\u001B[0;32m    102\u001B[0m     \u001B[38;5;28mprint\u001B[39m(\u001B[38;5;124mf\u001B[39m\u001B[38;5;124m\"\u001B[39m\u001B[38;5;130;01m\\n\u001B[39;00m\u001B[38;5;124mTraining Client \u001B[39m\u001B[38;5;132;01m{\u001B[39;00mclient\u001B[38;5;241m.\u001B[39mname\u001B[38;5;132;01m}\u001B[39;00m\u001B[38;5;124m (\u001B[39m\u001B[38;5;132;01m{\u001B[39;00mi\u001B[38;5;250m \u001B[39m\u001B[38;5;241m+\u001B[39m\u001B[38;5;250m \u001B[39m\u001B[38;5;241m1\u001B[39m\u001B[38;5;132;01m}\u001B[39;00m\u001B[38;5;124m/\u001B[39m\u001B[38;5;132;01m{\u001B[39;00m\u001B[38;5;28mself\u001B[39m\u001B[38;5;241m.\u001B[39mN_CLIENTS\u001B[38;5;132;01m}\u001B[39;00m\u001B[38;5;124m)...\u001B[39m\u001B[38;5;124m\"\u001B[39m)\n\u001B[1;32m--> 103\u001B[0m     client\u001B[38;5;241m.\u001B[39mtrain(\u001B[38;5;28mself\u001B[39m\u001B[38;5;241m.\u001B[39mCLIENT_ITERATIONS,\n\u001B[0;32m    104\u001B[0m                  n_datapoints\u001B[38;5;241m=\u001B[39m\u001B[38;5;28mself\u001B[39m\u001B[38;5;241m.\u001B[39mN_DATAPOINTS_PER_ROUND,\n\u001B[0;32m    105\u001B[0m                  labeling_method\u001B[38;5;241m=\u001B[39mlabeling_method)\n\u001B[0;32m    107\u001B[0m \u001B[38;5;66;03m# fetch client data\u001B[39;00m\n\u001B[0;32m    108\u001B[0m \u001B[38;5;28mprint\u001B[39m(\u001B[38;5;124m\"\u001B[39m\u001B[38;5;130;01m\\n\u001B[39;00m\u001B[38;5;124mFetching client data...\u001B[39m\u001B[38;5;124m\"\u001B[39m)\n",
      "File \u001B[1;32mD:\\Development\\Uni\\FL\\FederatedLearning\\code\\Client.py:71\u001B[0m, in \u001B[0;36mClient.train\u001B[1;34m(self, iterations, n_datapoints, labeling_method)\u001B[0m\n\u001B[0;32m     68\u001B[0m     loss\u001B[38;5;241m.\u001B[39mbackward()\n\u001B[0;32m     69\u001B[0m     optimizer\u001B[38;5;241m.\u001B[39mstep()\n\u001B[1;32m---> 71\u001B[0m     total_loss \u001B[38;5;241m+\u001B[39m\u001B[38;5;241m=\u001B[39m loss\u001B[38;5;241m.\u001B[39mitem()\n\u001B[0;32m     72\u001B[0m     num_samples \u001B[38;5;241m+\u001B[39m\u001B[38;5;241m=\u001B[39m \u001B[38;5;241m1\u001B[39m\n\u001B[0;32m     74\u001B[0m avg_loss \u001B[38;5;241m=\u001B[39m total_loss \u001B[38;5;241m/\u001B[39m num_samples\n",
      "\u001B[1;31mKeyboardInterrupt\u001B[0m: "
     ]
    }
   ],
   "execution_count": 5
  },
  {
   "metadata": {
    "ExecuteTime": {
     "end_time": "2025-02-25T17:09:15.481799600Z",
     "start_time": "2025-02-25T17:03:49.746258Z"
    }
   },
   "cell_type": "code",
   "source": [
    "import torch\n",
    "\n",
    "os.makedirs(\"models\", exist_ok=True)\n",
    "model_path = os.path.join(\"models\", \"host_model_after_very_good_CI_5_CB_1.pth\")\n",
    "torch.save(controller.host.model.state_dict(), model_path)\n",
    "print(f\"Model saved to {model_path}\")"
   ],
   "outputs": [
    {
     "name": "stdout",
     "output_type": "stream",
     "text": [
      "Model saved to models\\host_model_after_very_good_CI_5_CB_1.pth\n"
     ]
    }
   ],
   "execution_count": 5
  },
  {
   "cell_type": "code",
   "metadata": {
    "ExecuteTime": {
     "end_time": "2025-02-25T17:09:15.485802800Z",
     "start_time": "2025-02-25T17:01:24.722414Z"
    }
   },
   "source": [
    "config = {\n",
    "    \"ROUNDS\": 10,\n",
    "    \"N_CLIENTS\": 4,\n",
    "    \"CLIENT_ITERATIONS\": 1,\n",
    "    \"CLIENT_BATCH_SIZE\": 1,\n",
    "    \"N_DATAPOINTS_PER_ROUND\": 64\n",
    "}\n",
    "    \n",
    "controller = FedAvgController(\"models/host_model_25_epochs.pth\", config)\n",
    "controller.run(test=True, labeling_method=\"true labels\")\n"
   ],
   "outputs": [
    {
     "name": "stdout",
     "output_type": "stream",
     "text": [
      "Host Device: cuda\n",
      "Bärbel Device: cuda\n",
      "Dieter Device: cuda\n",
      "Ingrid Device: cuda\n",
      "Otto Device: cuda\n",
      "\n",
      "Evaluating model performance on test set...\n",
      "\n",
      "Test Results:\n",
      "==================================================\n",
      "Test Loss: 0.376389\n",
      "Test IoU: 0.613318\n",
      "==================================================\n",
      "\n",
      "Starting round 1/10...\n",
      "==================================================\n",
      "\n",
      "Training Client Bärbel (1/4)...\n"
     ]
    },
    {
     "name": "stderr",
     "output_type": "stream",
     "text": [
      "Epoch 1/1:   0%|          | 0/64 [00:06<?, ?it/s]\n"
     ]
    },
    {
     "ename": "UnboundLocalError",
     "evalue": "cannot access local variable 'loss' where it is not associated with a value",
     "output_type": "error",
     "traceback": [
      "\u001B[1;31m---------------------------------------------------------------------------\u001B[0m",
      "\u001B[1;31mUnboundLocalError\u001B[0m                         Traceback (most recent call last)",
      "Cell \u001B[1;32mIn[4], line 10\u001B[0m\n\u001B[0;32m      1\u001B[0m config \u001B[38;5;241m=\u001B[39m {\n\u001B[0;32m      2\u001B[0m     \u001B[38;5;124m\"\u001B[39m\u001B[38;5;124mROUNDS\u001B[39m\u001B[38;5;124m\"\u001B[39m: \u001B[38;5;241m10\u001B[39m,\n\u001B[0;32m      3\u001B[0m     \u001B[38;5;124m\"\u001B[39m\u001B[38;5;124mN_CLIENTS\u001B[39m\u001B[38;5;124m\"\u001B[39m: \u001B[38;5;241m4\u001B[39m,\n\u001B[1;32m   (...)\u001B[0m\n\u001B[0;32m      6\u001B[0m     \u001B[38;5;124m\"\u001B[39m\u001B[38;5;124mN_DATAPOINTS_PER_ROUND\u001B[39m\u001B[38;5;124m\"\u001B[39m: \u001B[38;5;241m64\u001B[39m\n\u001B[0;32m      7\u001B[0m }\n\u001B[0;32m      9\u001B[0m controller \u001B[38;5;241m=\u001B[39m FedAvgController(\u001B[38;5;124m\"\u001B[39m\u001B[38;5;124mmodels/host_model_25_epochs.pth\u001B[39m\u001B[38;5;124m\"\u001B[39m, config)\n\u001B[1;32m---> 10\u001B[0m controller\u001B[38;5;241m.\u001B[39mrun(test\u001B[38;5;241m=\u001B[39m\u001B[38;5;28;01mTrue\u001B[39;00m, labeling_method\u001B[38;5;241m=\u001B[39m\u001B[38;5;124m\"\u001B[39m\u001B[38;5;124mtrue labels\u001B[39m\u001B[38;5;124m\"\u001B[39m)\n",
      "File \u001B[1;32mD:\\Development\\Uni\\FL\\FederatedLearning\\code\\DataCollector.py:67\u001B[0m, in \u001B[0;36mdata_collector.<locals>.wrapper\u001B[1;34m(*args, **kwargs)\u001B[0m\n\u001B[0;32m     65\u001B[0m \u001B[38;5;28;01mdef\u001B[39;00m \u001B[38;5;21mwrapper\u001B[39m(\u001B[38;5;241m*\u001B[39margs, \u001B[38;5;241m*\u001B[39m\u001B[38;5;241m*\u001B[39mkwargs):\n\u001B[0;32m     66\u001B[0m     data \u001B[38;5;241m=\u001B[39m CollectedData()\n\u001B[1;32m---> 67\u001B[0m     func(\u001B[38;5;241m*\u001B[39margs, \u001B[38;5;241m*\u001B[39m\u001B[38;5;241m*\u001B[39mkwargs, data\u001B[38;5;241m=\u001B[39mdata)\n\u001B[0;32m     68\u001B[0m     \u001B[38;5;28mprint\u001B[39m(data)\n\u001B[0;32m     69\u001B[0m     data\u001B[38;5;241m.\u001B[39mplot()\n",
      "File \u001B[1;32mD:\\Development\\Uni\\FL\\FederatedLearning\\code\\FedAvgController.py:103\u001B[0m, in \u001B[0;36mFedAvgController.run\u001B[1;34m(self, test, labeling_method, data)\u001B[0m\n\u001B[0;32m    101\u001B[0m \u001B[38;5;28;01mfor\u001B[39;00m i, client \u001B[38;5;129;01min\u001B[39;00m \u001B[38;5;28menumerate\u001B[39m(\u001B[38;5;28mself\u001B[39m\u001B[38;5;241m.\u001B[39mclients):\n\u001B[0;32m    102\u001B[0m     \u001B[38;5;28mprint\u001B[39m(\u001B[38;5;124mf\u001B[39m\u001B[38;5;124m\"\u001B[39m\u001B[38;5;130;01m\\n\u001B[39;00m\u001B[38;5;124mTraining Client \u001B[39m\u001B[38;5;132;01m{\u001B[39;00mclient\u001B[38;5;241m.\u001B[39mname\u001B[38;5;132;01m}\u001B[39;00m\u001B[38;5;124m (\u001B[39m\u001B[38;5;132;01m{\u001B[39;00mi\u001B[38;5;250m \u001B[39m\u001B[38;5;241m+\u001B[39m\u001B[38;5;250m \u001B[39m\u001B[38;5;241m1\u001B[39m\u001B[38;5;132;01m}\u001B[39;00m\u001B[38;5;124m/\u001B[39m\u001B[38;5;132;01m{\u001B[39;00m\u001B[38;5;28mself\u001B[39m\u001B[38;5;241m.\u001B[39mN_CLIENTS\u001B[38;5;132;01m}\u001B[39;00m\u001B[38;5;124m)...\u001B[39m\u001B[38;5;124m\"\u001B[39m)\n\u001B[1;32m--> 103\u001B[0m     client\u001B[38;5;241m.\u001B[39mtrain(\u001B[38;5;28mself\u001B[39m\u001B[38;5;241m.\u001B[39mCLIENT_ITERATIONS,\n\u001B[0;32m    104\u001B[0m                  n_datapoints\u001B[38;5;241m=\u001B[39m\u001B[38;5;28mself\u001B[39m\u001B[38;5;241m.\u001B[39mN_DATAPOINTS_PER_ROUND,\n\u001B[0;32m    105\u001B[0m                  labeling_method\u001B[38;5;241m=\u001B[39mlabeling_method)\n\u001B[0;32m    107\u001B[0m \u001B[38;5;66;03m# fetch client data\u001B[39;00m\n\u001B[0;32m    108\u001B[0m \u001B[38;5;28mprint\u001B[39m(\u001B[38;5;124m\"\u001B[39m\u001B[38;5;130;01m\\n\u001B[39;00m\u001B[38;5;124mFetching client data...\u001B[39m\u001B[38;5;124m\"\u001B[39m)\n",
      "File \u001B[1;32mD:\\Development\\Uni\\FL\\FederatedLearning\\code\\Client.py:68\u001B[0m, in \u001B[0;36mClient.train\u001B[1;34m(self, iterations, n_datapoints, labeling_method)\u001B[0m\n\u001B[0;32m     56\u001B[0m optimizer\u001B[38;5;241m.\u001B[39mzero_grad()\n\u001B[0;32m     57\u001B[0m \u001B[38;5;66;03m#output = self.model(data)\u001B[39;00m\n\u001B[0;32m     58\u001B[0m \u001B[38;5;66;03m#loss = criterion(output, target)\u001B[39;00m\n\u001B[0;32m     59\u001B[0m \n\u001B[1;32m   (...)\u001B[0m\n\u001B[0;32m     66\u001B[0m \n\u001B[0;32m     67\u001B[0m \u001B[38;5;66;03m#scaled_loss.backward()\u001B[39;00m\n\u001B[1;32m---> 68\u001B[0m loss\u001B[38;5;241m.\u001B[39mbackward()\n\u001B[0;32m     69\u001B[0m optimizer\u001B[38;5;241m.\u001B[39mstep()\n\u001B[0;32m     71\u001B[0m total_loss \u001B[38;5;241m+\u001B[39m\u001B[38;5;241m=\u001B[39m loss\u001B[38;5;241m.\u001B[39mitem()\n",
      "\u001B[1;31mUnboundLocalError\u001B[0m: cannot access local variable 'loss' where it is not associated with a value"
     ]
    }
   ],
   "execution_count": 4
  },
  {
   "cell_type": "code",
   "execution_count": null,
   "metadata": {},
   "outputs": [],
   "source": []
  }
 ],
 "metadata": {
  "kernelspec": {
   "display_name": "MA",
   "language": "python",
   "name": "python3"
  },
  "language_info": {
   "codemirror_mode": {
    "name": "ipython",
    "version": 3
   },
   "file_extension": ".py",
   "mimetype": "text/x-python",
   "name": "python",
   "nbconvert_exporter": "python",
   "pygments_lexer": "ipython3",
   "version": "3.12.9"
  }
 },
 "nbformat": 4,
 "nbformat_minor": 2
}
