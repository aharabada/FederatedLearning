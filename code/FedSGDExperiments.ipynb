{
 "cells": [
  {
   "cell_type": "code",
   "execution_count": null,
   "metadata": {},
   "outputs": [],
   "source": [
    "import os\n",
    "import gc\n",
    "import torch\n",
    "\n",
    "from FedSGDController import FedSGDController\n",
    "\n",
    "# since this Notebook is in the code folder, we need to go up one level, so every module works as expected\n",
    "if(os.getcwd().endswith(\"code\")):\n",
    "    os.chdir(\"..\")\n",
    "print(os.getcwd())"
   ]
  },
  {
   "cell_type": "code",
   "execution_count": null,
   "metadata": {},
   "outputs": [],
   "source": [
    "def run_experiment(config: dict):\n",
    "    controller = FedSGDController(\"models/host_model_50_epochs.pth\", config)\n",
    "    controller.run(test=True)\n",
    "    controller.host.save_model(os.path.join(\"results\", controller.experiment_name), f\"model_50_{controller.experiment_name}.pth\")\n",
    "\n",
    "    del controller\n",
    "    gc.collect()\n",
    "    if torch.cuda.is_available():\n",
    "        torch.cuda.empty_cache()"
   ]
  },
  {
   "cell_type": "markdown",
   "metadata": {},
   "source": [
    "# FedSGD Experiments\n",
    "### Experiment 2.1 - Ground Truth Labels"
   ]
  },
  {
   "cell_type": "code",
   "execution_count": null,
   "metadata": {},
   "outputs": [],
   "source": [
    "config = {\n",
    "    \"RUNS\": 10,\n",
    "    \"ROUNDS\": 30,\n",
    "    \"N_CLIENTS\": 5,\n",
    "    \"CLIENT_ITERATIONS\": 1,\n",
    "    \"N_DATAPOINTS_PER_ROUND\": 5,\n",
    "    \"USE_MCD\": False\n",
    "}\n",
    "    \n",
    "run_experiment(config)"
   ]
  },
  {
   "cell_type": "markdown",
   "metadata": {},
   "source": [
    "### Experiment 2.2 - MCD"
   ]
  },
  {
   "cell_type": "code",
   "execution_count": null,
   "metadata": {},
   "outputs": [],
   "source": [
    "config = {\n",
    "    \"RUNS\": 10,\n",
    "    \"ROUNDS\": 30,\n",
    "    \"N_CLIENTS\": 5,\n",
    "    \"CLIENT_ITERATIONS\": 1,\n",
    "    \"N_DATAPOINTS_PER_ROUND\": 5,\n",
    "    \"USE_MCD\": True\n",
    "}\n",
    "    \n",
    "run_experiment(config)"
   ]
  },
  {
   "cell_type": "markdown",
   "metadata": {},
   "source": [
    "### Experiment 2.3 - MCD with more clients"
   ]
  },
  {
   "cell_type": "code",
   "execution_count": null,
   "metadata": {},
   "outputs": [],
   "source": [
    "config = {\n",
    "    \"RUNS\": 10,\n",
    "    \"ROUNDS\": 30,\n",
    "    \"N_CLIENTS\": 10,\n",
    "    \"CLIENT_ITERATIONS\": 1,\n",
    "    \"N_DATAPOINTS_PER_ROUND\": 3,\n",
    "    \"USE_MCD\": True\n",
    "}\n",
    "    \n",
    "run_experiment(config)"
   ]
  }
 ],
 "metadata": {
  "kernelspec": {
   "display_name": "MA",
   "language": "python",
   "name": "python3"
  },
  "language_info": {
   "codemirror_mode": {
    "name": "ipython",
    "version": 3
   },
   "file_extension": ".py",
   "mimetype": "text/x-python",
   "name": "python",
   "nbconvert_exporter": "python",
   "pygments_lexer": "ipython3",
   "version": "3.12.9"
  }
 },
 "nbformat": 4,
 "nbformat_minor": 2
}
